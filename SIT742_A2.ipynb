{
 "cells": [
  {
   "cell_type": "markdown",
   "id": "da3401c7-7164-41cf-a945-0ed5ea498e35",
   "metadata": {},
   "source": [
    "# SIT742: Modern Data Science \n",
    "# Assignment 2"
   ]
  },
  {
   "cell_type": "markdown",
   "id": "63fffc7b-cf52-4298-8ee2-6f7824340270",
   "metadata": {},
   "source": [
    "## Group member:\n",
    "- Rayvinder Jit Singh Athwal (boss) (ID: 221070846)\n",
    "- Nicholas Krt (ID: )\n",
    "- Wan Jun Yuan (ID: 220639764)"
   ]
  },
  {
   "cell_type": "markdown",
   "id": "34aa3e99-563c-4b68-9124-9b8ba35fb131",
   "metadata": {},
   "source": [
    "### Part 1"
   ]
  },
  {
   "cell_type": "code",
   "execution_count": 10,
   "id": "2dbebfe6-ea9c-47cf-89b3-b46f8548bc2c",
   "metadata": {},
   "outputs": [],
   "source": [
    "# Importing required libraries\n",
    "import json\n",
    "import pandas as pd"
   ]
  },
  {
   "cell_type": "markdown",
   "id": "f7117fe3-5330-4de5-bfe9-57749a2e6aa9",
   "metadata": {},
   "source": [
    "#### Question 1.1"
   ]
  },
  {
   "cell_type": "code",
   "execution_count": null,
   "id": "59f9860d-70ed-4db9-a213-76f8313c9042",
   "metadata": {},
   "outputs": [],
   "source": [
    "# Import dataset\n",
    "data = pd.read_json('assignment2data.json', lines=True, orient='columns', encoding='utf-8')\n",
    "\n",
    "# Convert it to csv\n",
    "data_df = pd.DataFrame(data)"
   ]
  },
  {
   "cell_type": "code",
   "execution_count": 19,
   "id": "afc5fcee-391f-4c5f-9594-0f34fb4dee49",
   "metadata": {},
   "outputs": [
    {
     "data": {
      "text/plain": [
       "(46279, 43)"
      ]
     },
     "execution_count": 19,
     "metadata": {},
     "output_type": "execute_result"
    }
   ],
   "source": [
    "# Printing the shapes of the dataframe\n",
    "data_df.shape"
   ]
  },
  {
   "cell_type": "code",
   "execution_count": 21,
   "id": "0150eb90-f0ac-4d56-8442-94539ecd5d73",
   "metadata": {},
   "outputs": [
    {
     "data": {
      "text/plain": [
       "498"
      ]
     },
     "execution_count": 21,
     "metadata": {},
     "output_type": "execute_result"
    }
   ],
   "source": [
    "# Counting duplicated rows in the data\n",
    "data_df.duplicated(keep=False).sum()"
   ]
  },
  {
   "cell_type": "code",
   "execution_count": 23,
   "id": "b64744eb-5440-4c6d-b3a6-38a8ce05b104",
   "metadata": {},
   "outputs": [
    {
     "data": {
      "text/plain": [
       "(46030, 43)"
      ]
     },
     "execution_count": 23,
     "metadata": {},
     "output_type": "execute_result"
    }
   ],
   "source": [
    "# Removing duplicated rows \n",
    "data_df2 = data_df.drop_duplicates(keep='first')\n",
    "\n",
    "# checking new shape of the data\n",
    "data_df2.shape"
   ]
  },
  {
   "cell_type": "markdown",
   "id": "e90190b5-2516-4b64-81c6-0b4d08d0c327",
   "metadata": {},
   "source": [
    "#### Question 1.2"
   ]
  },
  {
   "cell_type": "code",
   "execution_count": 29,
   "id": "5b2f6aab-5bc7-4bec-814f-999006663a83",
   "metadata": {},
   "outputs": [
    {
     "data": {
      "text/plain": [
       "sacc_items                   0.000000\n",
       "work_orders                  0.000000\n",
       "female_items                 0.000000\n",
       "is_newsletter_subscriber     0.000000\n",
       "male_items                   0.000000\n",
       "afterpay_payments            0.000000\n",
       "msite_orders                 0.000000\n",
       "wftw_items                   0.000000\n",
       "mapp_items                   0.000000\n",
       "orders                       0.000000\n",
       "cc_payments                  0.000000\n",
       "curvy_items                  0.000000\n",
       "paypal_payments              0.000000\n",
       "macc_items                   0.000000\n",
       "cancels                      0.000000\n",
       "revenue                      0.000000\n",
       "returns                      0.000000\n",
       "other_collection_orders      0.000000\n",
       "parcelpoint_orders           0.000000\n",
       "customer_id                  0.000000\n",
       "android_orders               0.000000\n",
       "days_since_last_order        0.000000\n",
       "vouchers                     0.000000\n",
       "average_discount_used        0.000000\n",
       "shipping_addresses           0.000000\n",
       "redpen_discount_used         0.000000\n",
       "mftw_items                   0.000000\n",
       "days_since_first_order       0.000000\n",
       "unisex_items                 0.000000\n",
       "home_orders                  0.000000\n",
       "coupon_discount_applied     22.168151\n",
       "desktop_orders               0.000000\n",
       "ios_orders                   0.000000\n",
       "apple_payments               0.000000\n",
       "wspt_items                   0.000000\n",
       "wacc_items                   0.000000\n",
       "items                        0.000000\n",
       "mspt_items                   0.000000\n",
       "devices                      0.000000\n",
       "different_addresses          0.000000\n",
       "wapp_items                   0.000000\n",
       "other_device_orders          0.000000\n",
       "average_discount_onoffer     0.000000\n",
       "dtype: float64"
      ]
     },
     "execution_count": 29,
     "metadata": {},
     "output_type": "execute_result"
    }
   ],
   "source": [
    "# defining the function to calculate the rate of missing value\n",
    "def missingdf(df):\n",
    "    missing_value = df.isnull().sum() / df.shape[0] * 100.00\n",
    "    return missing_value \n",
    "\n",
    "# Printing the rate of missing value\n",
    "missingdf(data_df2)"
   ]
  },
  {
   "cell_type": "markdown",
   "id": "2dd75001-9904-41db-bd0d-e198ffad7fee",
   "metadata": {},
   "source": [
    "#### Question 1.3"
   ]
  },
  {
   "cell_type": "code",
   "execution_count": null,
   "id": "bd919201-ce0f-48e0-9962-f0d8ad7d7e9d",
   "metadata": {},
   "outputs": [],
   "source": [
    "# defining the function to return a list which only contains the numerical column names\n",
    "# and also contains the categorical column names\n",
    "def column_list(df):\n",
    "    "
   ]
  },
  {
   "cell_type": "code",
   "execution_count": null,
   "id": "1c74afc0-5dd0-40f9-b149-61b38a500483",
   "metadata": {},
   "outputs": [],
   "source": []
  }
 ],
 "metadata": {
  "kernelspec": {
   "display_name": "Python 3 (ipykernel)",
   "language": "python",
   "name": "python3"
  },
  "language_info": {
   "codemirror_mode": {
    "name": "ipython",
    "version": 3
   },
   "file_extension": ".py",
   "mimetype": "text/x-python",
   "name": "python",
   "nbconvert_exporter": "python",
   "pygments_lexer": "ipython3",
   "version": "3.9.7"
  }
 },
 "nbformat": 4,
 "nbformat_minor": 5
}
